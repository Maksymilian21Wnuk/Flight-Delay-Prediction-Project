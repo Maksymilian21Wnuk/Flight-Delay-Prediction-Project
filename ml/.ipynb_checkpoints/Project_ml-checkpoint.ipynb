{
 "cells": [
  {
   "cell_type": "code",
   "execution_count": 1,
   "metadata": {
    "id": "1OjFyfzJpUD2"
   },
   "outputs": [],
   "source": [
    "import os\n",
    "import sys\n",
    "import opendatasets as od\n",
    "from joblib import parallel_backend\n",
    "import matplotlib.pyplot as plt\n",
    "import numpy as np\n",
    "import pandas as pd\n",
    "import scipy.optimize as sopt\n",
    "import scipy.stats as sstats\n",
    "import seaborn as sns\n",
    "import sklearn.ensemble\n",
    "import sklearn.tree\n",
    "from sklearn import datasets\n",
    "from sklearn.preprocessing import MinMaxScaler\n",
    "from matplotlib import animation, pyplot, rc\n",
    "from sklearn.model_selection import train_test_split\n",
    "from sklearn.linear_model import LogisticRegression\n",
    "from sklearn.metrics import accuracy_score, confusion_matrix, classification_report\n",
    "from sklearn.model_selection import GridSearchCV\n",
    "from sklearn.neighbors import KNeighborsClassifier\n",
    "from sklearn.decomposition import PCA\n",
    "from sklearn.utils import resample\n",
    "import gc\n",
    "from sklearn.preprocessing import StandardScaler\n",
    "from sklearn.pipeline import Pipeline\n",
    "from sklearn.model_selection import StratifiedKFold\n",
    "from sklearn.tree import DecisionTreeClassifier\n",
    "from sklearn.naive_bayes import GaussianNB\n",
    "from datetime import datetime, time\n",
    "import json \n",
    "\n",
    "PLOT_MODULE = \"/home/meks/Desktop/Flight-Delay-Prediction-Project/ml/\"\n",
    "sys.path.append(PLOT_MODULE)\n",
    "\n",
    "from EDA_plottings import run_plots\n",
    "\n",
    "# garbage collector so we can save memory\n",
    "import gc"
   ]
  },
  {
   "cell_type": "markdown",
   "metadata": {
    "id": "BJr43qqJemQ6"
   },
   "source": [
    "# Problem Statement and Objectives\n"
   ]
  },
  {
   "cell_type": "code",
   "execution_count": null,
   "metadata": {},
   "outputs": [],
   "source": []
  },
  {
   "cell_type": "markdown",
   "metadata": {
    "id": "XnBQtMZ6pCLx"
   },
   "source": [
    "# Data Colection\n"
   ]
  },
  {
   "cell_type": "markdown",
   "metadata": {
    "id": "Ge7ygca0rWfx"
   },
   "source": [
    "## Importing preprocessed data \n"
   ]
  },
  {
   "cell_type": "markdown",
   "metadata": {
    "id": "lSk87wlvwdd5"
   },
   "source": [
    "We will be importing data that was merged data of flight dataset from kaggle\n",
    "and weather from visual crossing (https://www.visualcrossing.com) page. Thanks for cooperation with them,\n",
    "we were allowed to make large queries about weather in certain places and time."
   ]
  },
  {
   "cell_type": "code",
   "execution_count": 2,
   "metadata": {
    "colab": {
     "base_uri": "https://localhost:8080/"
    },
    "id": "l6UynddHrHyl",
    "outputId": "c1509dda-867d-4c44-dca5-0a220235cbdf"
   },
   "outputs": [],
   "source": [
    "DATASET_PATH = \"/home/meks/Desktop/data_cale.csv\"\n"
   ]
  },
  {
   "cell_type": "markdown",
   "metadata": {
    "id": "Ru3JuHhwwvee"
   },
   "source": [
    "Lets open it:"
   ]
  },
  {
   "cell_type": "code",
   "execution_count": 3,
   "metadata": {
    "id": "vUWe7_e0uFiZ"
   },
   "outputs": [],
   "source": [
    "pd.set_option('display.max_columns', None)\n",
    "\n",
    "#NOT SURE ABOUT CRS DEST DISTANCE\n",
    "dataset = pd.read_csv(DATASET_PATH, dtype={'snow':'uint16', 'rain':'uint16','freezingrain':'uint16','ice':'uint16',\n",
    "                                                 'FL_MONTH':'uint16', 'FL_DAY' : 'uint16', 'FL_YEAR':'uint32', 'OP_CARRIER':'uint16',\n",
    "                                           'DELAY' : 'uint16', 'DEST' : 'uint16', 'CRS_ARR_TIME' : 'uint16', 'DISTANCE' : 'uint16'})\n",
    "\n"
   ]
  },
  {
   "cell_type": "code",
   "execution_count": null,
   "metadata": {},
   "outputs": [],
   "source": [
    "run_plots(dataset)"
   ]
  },
  {
   "cell_type": "code",
   "execution_count": 7,
   "metadata": {
    "colab": {
     "base_uri": "https://localhost:8080/",
     "height": 635
    },
    "id": "lVgnvkNkvto9",
    "outputId": "bd7396f8-5d26-49c5-b012-a18520fe8354"
   },
   "outputs": [
    {
     "data": {
      "text/html": [
       "<div>\n",
       "<style scoped>\n",
       "    .dataframe tbody tr th:only-of-type {\n",
       "        vertical-align: middle;\n",
       "    }\n",
       "\n",
       "    .dataframe tbody tr th {\n",
       "        vertical-align: top;\n",
       "    }\n",
       "\n",
       "    .dataframe thead th {\n",
       "        text-align: right;\n",
       "    }\n",
       "</style>\n",
       "<table border=\"1\" class=\"dataframe\">\n",
       "  <thead>\n",
       "    <tr style=\"text-align: right;\">\n",
       "      <th></th>\n",
       "      <th>ID</th>\n",
       "      <th>OP_CARRIER</th>\n",
       "      <th>ORIGIN</th>\n",
       "      <th>DEST</th>\n",
       "      <th>CRS_DEP_TIME</th>\n",
       "      <th>CRS_ARR_TIME</th>\n",
       "      <th>ARR_TIME</th>\n",
       "      <th>CRS_ELAPSED_TIME</th>\n",
       "      <th>DISTANCE</th>\n",
       "      <th>FL_YEAR</th>\n",
       "      <th>FL_MONTH</th>\n",
       "      <th>FL_DAY</th>\n",
       "      <th>ARR_DELAY</th>\n",
       "      <th>DELAY</th>\n",
       "      <th>MOONPHASE</th>\n",
       "      <th>CONDITIONS</th>\n",
       "      <th>CLOUDCOVER</th>\n",
       "      <th>VISIBILITY</th>\n",
       "      <th>PRESSURE</th>\n",
       "      <th>WINDDIR</th>\n",
       "      <th>WINDSPEED</th>\n",
       "      <th>WINDGUST</th>\n",
       "      <th>SNOWDEPTH</th>\n",
       "      <th>SNOW</th>\n",
       "      <th>PRECIPPROB</th>\n",
       "      <th>PRECIP</th>\n",
       "      <th>DEW</th>\n",
       "      <th>HUMIDITY</th>\n",
       "      <th>TEMP</th>\n",
       "      <th>FEELSLIKE</th>\n",
       "      <th>ice</th>\n",
       "      <th>freezingrain</th>\n",
       "      <th>snow</th>\n",
       "      <th>rain</th>\n",
       "      <th>id</th>\n",
       "      <th>datatype</th>\n",
       "      <th>day_of_week</th>\n",
       "      <th>month</th>\n",
       "    </tr>\n",
       "  </thead>\n",
       "  <tbody>\n",
       "    <tr>\n",
       "      <th>0</th>\n",
       "      <td>907.00000</td>\n",
       "      <td>EV</td>\n",
       "      <td>CAE</td>\n",
       "      <td>248</td>\n",
       "      <td>655</td>\n",
       "      <td>815</td>\n",
       "      <td>806</td>\n",
       "      <td>140</td>\n",
       "      <td>666</td>\n",
       "      <td>2017</td>\n",
       "      <td>1</td>\n",
       "      <td>1</td>\n",
       "      <td>-9</td>\n",
       "      <td>0</td>\n",
       "      <td>0.12000</td>\n",
       "      <td>Rain, Partially cloudy</td>\n",
       "      <td>81.90000</td>\n",
       "      <td>7.60000</td>\n",
       "      <td>1021.30000</td>\n",
       "      <td>27.00000</td>\n",
       "      <td>1.20000</td>\n",
       "      <td>NaN</td>\n",
       "      <td>0.00000</td>\n",
       "      <td>0.00000</td>\n",
       "      <td>100.00000</td>\n",
       "      <td>0.00100</td>\n",
       "      <td>42.20000</td>\n",
       "      <td>90.30000</td>\n",
       "      <td>44.90000</td>\n",
       "      <td>44.90000</td>\n",
       "      <td>0</td>\n",
       "      <td>0</td>\n",
       "      <td>0</td>\n",
       "      <td>1</td>\n",
       "      <td>NaN</td>\n",
       "      <td>2017-01-01</td>\n",
       "      <td>7</td>\n",
       "      <td>2</td>\n",
       "    </tr>\n",
       "    <tr>\n",
       "      <th>1</th>\n",
       "      <td>5833.00000</td>\n",
       "      <td>EV</td>\n",
       "      <td>CAE</td>\n",
       "      <td>21</td>\n",
       "      <td>615</td>\n",
       "      <td>725</td>\n",
       "      <td>726</td>\n",
       "      <td>70</td>\n",
       "      <td>192</td>\n",
       "      <td>2017</td>\n",
       "      <td>1</td>\n",
       "      <td>1</td>\n",
       "      <td>1</td>\n",
       "      <td>1</td>\n",
       "      <td>0.12000</td>\n",
       "      <td>Rain, Partially cloudy</td>\n",
       "      <td>81.90000</td>\n",
       "      <td>7.60000</td>\n",
       "      <td>1021.30000</td>\n",
       "      <td>27.00000</td>\n",
       "      <td>1.20000</td>\n",
       "      <td>NaN</td>\n",
       "      <td>0.00000</td>\n",
       "      <td>0.00000</td>\n",
       "      <td>100.00000</td>\n",
       "      <td>0.00100</td>\n",
       "      <td>42.20000</td>\n",
       "      <td>90.30000</td>\n",
       "      <td>44.90000</td>\n",
       "      <td>44.90000</td>\n",
       "      <td>0</td>\n",
       "      <td>0</td>\n",
       "      <td>0</td>\n",
       "      <td>1</td>\n",
       "      <td>NaN</td>\n",
       "      <td>2017-01-01</td>\n",
       "      <td>7</td>\n",
       "      <td>2</td>\n",
       "    </tr>\n",
       "    <tr>\n",
       "      <th>2</th>\n",
       "      <td>7651.00000</td>\n",
       "      <td>DL</td>\n",
       "      <td>CAE</td>\n",
       "      <td>21</td>\n",
       "      <td>1530</td>\n",
       "      <td>1644</td>\n",
       "      <td>1643</td>\n",
       "      <td>74</td>\n",
       "      <td>192</td>\n",
       "      <td>2017</td>\n",
       "      <td>1</td>\n",
       "      <td>1</td>\n",
       "      <td>-1</td>\n",
       "      <td>0</td>\n",
       "      <td>0.12000</td>\n",
       "      <td>Overcast</td>\n",
       "      <td>100.00000</td>\n",
       "      <td>3.50000</td>\n",
       "      <td>1021.50000</td>\n",
       "      <td>85.00000</td>\n",
       "      <td>4.50000</td>\n",
       "      <td>NaN</td>\n",
       "      <td>0.00000</td>\n",
       "      <td>0.00000</td>\n",
       "      <td>0.00000</td>\n",
       "      <td>0.00000</td>\n",
       "      <td>50.80000</td>\n",
       "      <td>91.03000</td>\n",
       "      <td>53.30000</td>\n",
       "      <td>53.30000</td>\n",
       "      <td>0</td>\n",
       "      <td>0</td>\n",
       "      <td>0</td>\n",
       "      <td>0</td>\n",
       "      <td>NaN</td>\n",
       "      <td>2017-01-01</td>\n",
       "      <td>7</td>\n",
       "      <td>2</td>\n",
       "    </tr>\n",
       "    <tr>\n",
       "      <th>3</th>\n",
       "      <td>8698.00000</td>\n",
       "      <td>DL</td>\n",
       "      <td>CAE</td>\n",
       "      <td>21</td>\n",
       "      <td>828</td>\n",
       "      <td>938</td>\n",
       "      <td>1111</td>\n",
       "      <td>70</td>\n",
       "      <td>192</td>\n",
       "      <td>2017</td>\n",
       "      <td>1</td>\n",
       "      <td>1</td>\n",
       "      <td>173</td>\n",
       "      <td>1</td>\n",
       "      <td>0.12000</td>\n",
       "      <td>Rain, Partially cloudy</td>\n",
       "      <td>64.30000</td>\n",
       "      <td>3.80000</td>\n",
       "      <td>1021.80000</td>\n",
       "      <td>0.00000</td>\n",
       "      <td>0.00000</td>\n",
       "      <td>NaN</td>\n",
       "      <td>0.00000</td>\n",
       "      <td>0.00000</td>\n",
       "      <td>100.00000</td>\n",
       "      <td>0.01400</td>\n",
       "      <td>43.80000</td>\n",
       "      <td>91.62000</td>\n",
       "      <td>46.10000</td>\n",
       "      <td>46.10000</td>\n",
       "      <td>0</td>\n",
       "      <td>0</td>\n",
       "      <td>0</td>\n",
       "      <td>1</td>\n",
       "      <td>NaN</td>\n",
       "      <td>2017-01-01</td>\n",
       "      <td>7</td>\n",
       "      <td>2</td>\n",
       "    </tr>\n",
       "    <tr>\n",
       "      <th>4</th>\n",
       "      <td>9237.00000</td>\n",
       "      <td>EV</td>\n",
       "      <td>CAE</td>\n",
       "      <td>248</td>\n",
       "      <td>1634</td>\n",
       "      <td>1757</td>\n",
       "      <td>1736</td>\n",
       "      <td>143</td>\n",
       "      <td>666</td>\n",
       "      <td>2017</td>\n",
       "      <td>1</td>\n",
       "      <td>1</td>\n",
       "      <td>-21</td>\n",
       "      <td>0</td>\n",
       "      <td>0.12000</td>\n",
       "      <td>Rain, Overcast</td>\n",
       "      <td>100.00000</td>\n",
       "      <td>1.80000</td>\n",
       "      <td>1021.60000</td>\n",
       "      <td>70.00000</td>\n",
       "      <td>5.10000</td>\n",
       "      <td>NaN</td>\n",
       "      <td>0.00000</td>\n",
       "      <td>0.00000</td>\n",
       "      <td>100.00000</td>\n",
       "      <td>0.01000</td>\n",
       "      <td>51.50000</td>\n",
       "      <td>91.61000</td>\n",
       "      <td>53.90000</td>\n",
       "      <td>53.90000</td>\n",
       "      <td>0</td>\n",
       "      <td>0</td>\n",
       "      <td>0</td>\n",
       "      <td>1</td>\n",
       "      <td>NaN</td>\n",
       "      <td>2017-01-01</td>\n",
       "      <td>7</td>\n",
       "      <td>2</td>\n",
       "    </tr>\n",
       "    <tr>\n",
       "      <th>...</th>\n",
       "      <td>...</td>\n",
       "      <td>...</td>\n",
       "      <td>...</td>\n",
       "      <td>...</td>\n",
       "      <td>...</td>\n",
       "      <td>...</td>\n",
       "      <td>...</td>\n",
       "      <td>...</td>\n",
       "      <td>...</td>\n",
       "      <td>...</td>\n",
       "      <td>...</td>\n",
       "      <td>...</td>\n",
       "      <td>...</td>\n",
       "      <td>...</td>\n",
       "      <td>...</td>\n",
       "      <td>...</td>\n",
       "      <td>...</td>\n",
       "      <td>...</td>\n",
       "      <td>...</td>\n",
       "      <td>...</td>\n",
       "      <td>...</td>\n",
       "      <td>...</td>\n",
       "      <td>...</td>\n",
       "      <td>...</td>\n",
       "      <td>...</td>\n",
       "      <td>...</td>\n",
       "      <td>...</td>\n",
       "      <td>...</td>\n",
       "      <td>...</td>\n",
       "      <td>...</td>\n",
       "      <td>...</td>\n",
       "      <td>...</td>\n",
       "      <td>...</td>\n",
       "      <td>...</td>\n",
       "      <td>...</td>\n",
       "      <td>...</td>\n",
       "      <td>...</td>\n",
       "      <td>...</td>\n",
       "    </tr>\n",
       "    <tr>\n",
       "      <th>95</th>\n",
       "      <td>138280.00000</td>\n",
       "      <td>EV</td>\n",
       "      <td>CAE</td>\n",
       "      <td>164</td>\n",
       "      <td>1725</td>\n",
       "      <td>1919</td>\n",
       "      <td>1924</td>\n",
       "      <td>174</td>\n",
       "      <td>878</td>\n",
       "      <td>2017</td>\n",
       "      <td>1</td>\n",
       "      <td>10</td>\n",
       "      <td>5</td>\n",
       "      <td>1</td>\n",
       "      <td>0.44000</td>\n",
       "      <td>Clear</td>\n",
       "      <td>17.30000</td>\n",
       "      <td>9.90000</td>\n",
       "      <td>1028.90000</td>\n",
       "      <td>307.00000</td>\n",
       "      <td>2.40000</td>\n",
       "      <td>NaN</td>\n",
       "      <td>0.00000</td>\n",
       "      <td>0.00000</td>\n",
       "      <td>0.00000</td>\n",
       "      <td>0.00000</td>\n",
       "      <td>36.50000</td>\n",
       "      <td>44.84000</td>\n",
       "      <td>57.80000</td>\n",
       "      <td>57.80000</td>\n",
       "      <td>0</td>\n",
       "      <td>0</td>\n",
       "      <td>0</td>\n",
       "      <td>0</td>\n",
       "      <td>NaN</td>\n",
       "      <td>2017-01-10</td>\n",
       "      <td>2</td>\n",
       "      <td>2</td>\n",
       "    </tr>\n",
       "    <tr>\n",
       "      <th>96</th>\n",
       "      <td>138377.00000</td>\n",
       "      <td>EV</td>\n",
       "      <td>CAE</td>\n",
       "      <td>248</td>\n",
       "      <td>1716</td>\n",
       "      <td>1835</td>\n",
       "      <td>1842</td>\n",
       "      <td>139</td>\n",
       "      <td>666</td>\n",
       "      <td>2017</td>\n",
       "      <td>1</td>\n",
       "      <td>10</td>\n",
       "      <td>7</td>\n",
       "      <td>1</td>\n",
       "      <td>0.44000</td>\n",
       "      <td>Clear</td>\n",
       "      <td>17.30000</td>\n",
       "      <td>9.90000</td>\n",
       "      <td>1028.90000</td>\n",
       "      <td>307.00000</td>\n",
       "      <td>2.40000</td>\n",
       "      <td>NaN</td>\n",
       "      <td>0.00000</td>\n",
       "      <td>0.00000</td>\n",
       "      <td>0.00000</td>\n",
       "      <td>0.00000</td>\n",
       "      <td>36.50000</td>\n",
       "      <td>44.84000</td>\n",
       "      <td>57.80000</td>\n",
       "      <td>57.80000</td>\n",
       "      <td>0</td>\n",
       "      <td>0</td>\n",
       "      <td>0</td>\n",
       "      <td>0</td>\n",
       "      <td>NaN</td>\n",
       "      <td>2017-01-10</td>\n",
       "      <td>2</td>\n",
       "      <td>2</td>\n",
       "    </tr>\n",
       "    <tr>\n",
       "      <th>97</th>\n",
       "      <td>142458.00000</td>\n",
       "      <td>EV</td>\n",
       "      <td>CAE</td>\n",
       "      <td>21</td>\n",
       "      <td>700</td>\n",
       "      <td>820</td>\n",
       "      <td>756</td>\n",
       "      <td>80</td>\n",
       "      <td>192</td>\n",
       "      <td>2017</td>\n",
       "      <td>1</td>\n",
       "      <td>11</td>\n",
       "      <td>-64</td>\n",
       "      <td>0</td>\n",
       "      <td>0.47000</td>\n",
       "      <td>Overcast</td>\n",
       "      <td>100.00000</td>\n",
       "      <td>9.90000</td>\n",
       "      <td>1028.10000</td>\n",
       "      <td>332.00000</td>\n",
       "      <td>1.20000</td>\n",
       "      <td>NaN</td>\n",
       "      <td>0.00000</td>\n",
       "      <td>0.00000</td>\n",
       "      <td>0.00000</td>\n",
       "      <td>0.00000</td>\n",
       "      <td>46.70000</td>\n",
       "      <td>89.31000</td>\n",
       "      <td>49.70000</td>\n",
       "      <td>49.70000</td>\n",
       "      <td>0</td>\n",
       "      <td>0</td>\n",
       "      <td>0</td>\n",
       "      <td>0</td>\n",
       "      <td>NaN</td>\n",
       "      <td>2017-01-11</td>\n",
       "      <td>3</td>\n",
       "      <td>2</td>\n",
       "    </tr>\n",
       "    <tr>\n",
       "      <th>98</th>\n",
       "      <td>142490.00000</td>\n",
       "      <td>EV</td>\n",
       "      <td>CAE</td>\n",
       "      <td>21</td>\n",
       "      <td>2010</td>\n",
       "      <td>2123</td>\n",
       "      <td>2058</td>\n",
       "      <td>73</td>\n",
       "      <td>192</td>\n",
       "      <td>2017</td>\n",
       "      <td>1</td>\n",
       "      <td>11</td>\n",
       "      <td>-65</td>\n",
       "      <td>0</td>\n",
       "      <td>0.47000</td>\n",
       "      <td>Clear</td>\n",
       "      <td>15.10000</td>\n",
       "      <td>9.90000</td>\n",
       "      <td>1026.70000</td>\n",
       "      <td>292.00000</td>\n",
       "      <td>1.40000</td>\n",
       "      <td>NaN</td>\n",
       "      <td>0.00000</td>\n",
       "      <td>0.00000</td>\n",
       "      <td>0.00000</td>\n",
       "      <td>0.00000</td>\n",
       "      <td>49.30000</td>\n",
       "      <td>68.34000</td>\n",
       "      <td>59.70000</td>\n",
       "      <td>59.70000</td>\n",
       "      <td>0</td>\n",
       "      <td>0</td>\n",
       "      <td>0</td>\n",
       "      <td>0</td>\n",
       "      <td>NaN</td>\n",
       "      <td>2017-01-11</td>\n",
       "      <td>3</td>\n",
       "      <td>2</td>\n",
       "    </tr>\n",
       "    <tr>\n",
       "      <th>99</th>\n",
       "      <td>142562.00000</td>\n",
       "      <td>EV</td>\n",
       "      <td>CAE</td>\n",
       "      <td>21</td>\n",
       "      <td>1002</td>\n",
       "      <td>1114</td>\n",
       "      <td>1110</td>\n",
       "      <td>72</td>\n",
       "      <td>192</td>\n",
       "      <td>2017</td>\n",
       "      <td>1</td>\n",
       "      <td>11</td>\n",
       "      <td>-4</td>\n",
       "      <td>0</td>\n",
       "      <td>0.47000</td>\n",
       "      <td>Overcast</td>\n",
       "      <td>99.50000</td>\n",
       "      <td>9.90000</td>\n",
       "      <td>1030.30000</td>\n",
       "      <td>11.00000</td>\n",
       "      <td>0.10000</td>\n",
       "      <td>NaN</td>\n",
       "      <td>0.00000</td>\n",
       "      <td>0.00000</td>\n",
       "      <td>0.00000</td>\n",
       "      <td>0.00000</td>\n",
       "      <td>48.30000</td>\n",
       "      <td>80.18000</td>\n",
       "      <td>54.30000</td>\n",
       "      <td>54.30000</td>\n",
       "      <td>0</td>\n",
       "      <td>0</td>\n",
       "      <td>0</td>\n",
       "      <td>0</td>\n",
       "      <td>NaN</td>\n",
       "      <td>2017-01-11</td>\n",
       "      <td>3</td>\n",
       "      <td>2</td>\n",
       "    </tr>\n",
       "  </tbody>\n",
       "</table>\n",
       "<p>100 rows × 38 columns</p>\n",
       "</div>"
      ],
      "text/plain": [
       "             ID OP_CARRIER ORIGIN  DEST  CRS_DEP_TIME  CRS_ARR_TIME  ARR_TIME  \\\n",
       "0     907.00000         EV    CAE   248           655           815       806   \n",
       "1    5833.00000         EV    CAE    21           615           725       726   \n",
       "2    7651.00000         DL    CAE    21          1530          1644      1643   \n",
       "3    8698.00000         DL    CAE    21           828           938      1111   \n",
       "4    9237.00000         EV    CAE   248          1634          1757      1736   \n",
       "..          ...        ...    ...   ...           ...           ...       ...   \n",
       "95 138280.00000         EV    CAE   164          1725          1919      1924   \n",
       "96 138377.00000         EV    CAE   248          1716          1835      1842   \n",
       "97 142458.00000         EV    CAE    21           700           820       756   \n",
       "98 142490.00000         EV    CAE    21          2010          2123      2058   \n",
       "99 142562.00000         EV    CAE    21          1002          1114      1110   \n",
       "\n",
       "    CRS_ELAPSED_TIME  DISTANCE  FL_YEAR  FL_MONTH  FL_DAY  ARR_DELAY  DELAY  \\\n",
       "0                140       666     2017         1       1         -9      0   \n",
       "1                 70       192     2017         1       1          1      1   \n",
       "2                 74       192     2017         1       1         -1      0   \n",
       "3                 70       192     2017         1       1        173      1   \n",
       "4                143       666     2017         1       1        -21      0   \n",
       "..               ...       ...      ...       ...     ...        ...    ...   \n",
       "95               174       878     2017         1      10          5      1   \n",
       "96               139       666     2017         1      10          7      1   \n",
       "97                80       192     2017         1      11        -64      0   \n",
       "98                73       192     2017         1      11        -65      0   \n",
       "99                72       192     2017         1      11         -4      0   \n",
       "\n",
       "    MOONPHASE              CONDITIONS  CLOUDCOVER  VISIBILITY   PRESSURE  \\\n",
       "0     0.12000  Rain, Partially cloudy    81.90000     7.60000 1021.30000   \n",
       "1     0.12000  Rain, Partially cloudy    81.90000     7.60000 1021.30000   \n",
       "2     0.12000                Overcast   100.00000     3.50000 1021.50000   \n",
       "3     0.12000  Rain, Partially cloudy    64.30000     3.80000 1021.80000   \n",
       "4     0.12000          Rain, Overcast   100.00000     1.80000 1021.60000   \n",
       "..        ...                     ...         ...         ...        ...   \n",
       "95    0.44000                   Clear    17.30000     9.90000 1028.90000   \n",
       "96    0.44000                   Clear    17.30000     9.90000 1028.90000   \n",
       "97    0.47000                Overcast   100.00000     9.90000 1028.10000   \n",
       "98    0.47000                   Clear    15.10000     9.90000 1026.70000   \n",
       "99    0.47000                Overcast    99.50000     9.90000 1030.30000   \n",
       "\n",
       "     WINDDIR  WINDSPEED  WINDGUST  SNOWDEPTH    SNOW  PRECIPPROB  PRECIP  \\\n",
       "0   27.00000    1.20000       NaN    0.00000 0.00000   100.00000 0.00100   \n",
       "1   27.00000    1.20000       NaN    0.00000 0.00000   100.00000 0.00100   \n",
       "2   85.00000    4.50000       NaN    0.00000 0.00000     0.00000 0.00000   \n",
       "3    0.00000    0.00000       NaN    0.00000 0.00000   100.00000 0.01400   \n",
       "4   70.00000    5.10000       NaN    0.00000 0.00000   100.00000 0.01000   \n",
       "..       ...        ...       ...        ...     ...         ...     ...   \n",
       "95 307.00000    2.40000       NaN    0.00000 0.00000     0.00000 0.00000   \n",
       "96 307.00000    2.40000       NaN    0.00000 0.00000     0.00000 0.00000   \n",
       "97 332.00000    1.20000       NaN    0.00000 0.00000     0.00000 0.00000   \n",
       "98 292.00000    1.40000       NaN    0.00000 0.00000     0.00000 0.00000   \n",
       "99  11.00000    0.10000       NaN    0.00000 0.00000     0.00000 0.00000   \n",
       "\n",
       "        DEW  HUMIDITY     TEMP  FEELSLIKE  ice  freezingrain  snow  rain  id  \\\n",
       "0  42.20000  90.30000 44.90000   44.90000    0             0     0     1 NaN   \n",
       "1  42.20000  90.30000 44.90000   44.90000    0             0     0     1 NaN   \n",
       "2  50.80000  91.03000 53.30000   53.30000    0             0     0     0 NaN   \n",
       "3  43.80000  91.62000 46.10000   46.10000    0             0     0     1 NaN   \n",
       "4  51.50000  91.61000 53.90000   53.90000    0             0     0     1 NaN   \n",
       "..      ...       ...      ...        ...  ...           ...   ...   ...  ..   \n",
       "95 36.50000  44.84000 57.80000   57.80000    0             0     0     0 NaN   \n",
       "96 36.50000  44.84000 57.80000   57.80000    0             0     0     0 NaN   \n",
       "97 46.70000  89.31000 49.70000   49.70000    0             0     0     0 NaN   \n",
       "98 49.30000  68.34000 59.70000   59.70000    0             0     0     0 NaN   \n",
       "99 48.30000  80.18000 54.30000   54.30000    0             0     0     0 NaN   \n",
       "\n",
       "     datatype  day_of_week  month  \n",
       "0  2017-01-01            7      2  \n",
       "1  2017-01-01            7      2  \n",
       "2  2017-01-01            7      2  \n",
       "3  2017-01-01            7      2  \n",
       "4  2017-01-01            7      2  \n",
       "..        ...          ...    ...  \n",
       "95 2017-01-10            2      2  \n",
       "96 2017-01-10            2      2  \n",
       "97 2017-01-11            3      2  \n",
       "98 2017-01-11            3      2  \n",
       "99 2017-01-11            3      2  \n",
       "\n",
       "[100 rows x 38 columns]"
      ]
     },
     "execution_count": 7,
     "metadata": {},
     "output_type": "execute_result"
    }
   ],
   "source": [
    "dataset.head(n=100)"
   ]
  },
  {
   "cell_type": "code",
   "execution_count": 8,
   "metadata": {
    "colab": {
     "base_uri": "https://localhost:8080/"
    },
    "id": "_1Yt0aScxdha",
    "outputId": "7b44a078-2768-42ff-fb0e-fd12b145661c"
   },
   "outputs": [
    {
     "data": {
      "text/plain": [
       "array(['ID', 'OP_CARRIER', 'ORIGIN', 'DEST', 'CRS_DEP_TIME',\n",
       "       'CRS_ARR_TIME', 'ARR_TIME', 'CRS_ELAPSED_TIME', 'DISTANCE',\n",
       "       'FL_YEAR', 'FL_MONTH', 'FL_DAY', 'ARR_DELAY', 'DELAY', 'MOONPHASE',\n",
       "       'CONDITIONS', 'CLOUDCOVER', 'VISIBILITY', 'PRESSURE', 'WINDDIR',\n",
       "       'WINDSPEED', 'WINDGUST', 'SNOWDEPTH', 'SNOW', 'PRECIPPROB',\n",
       "       'PRECIP', 'DEW', 'HUMIDITY', 'TEMP', 'FEELSLIKE', 'ice',\n",
       "       'freezingrain', 'snow', 'rain', 'id', 'datatype', 'day_of_week',\n",
       "       'month'], dtype=object)"
      ]
     },
     "execution_count": 8,
     "metadata": {},
     "output_type": "execute_result"
    }
   ],
   "source": [
    "dataset.columns.values"
   ]
  },
  {
   "cell_type": "markdown",
   "metadata": {
    "id": "azQB8C5q6J01"
   },
   "source": [
    "# A small peek on size of data\n",
    "\n",
    "\n"
   ]
  },
  {
   "cell_type": "markdown",
   "metadata": {
    "id": "Y0XpNt4QFdgG"
   },
   "source": [
    "It's definetely too much, we need to make it smaller, especially the string columns. We would like to convert big string data into mappings of ints to strings. Lets look at example of big columns:"
   ]
  },
  {
   "cell_type": "code",
   "execution_count": null,
   "metadata": {
    "colab": {
     "base_uri": "https://localhost:8080/"
    },
    "id": "DsaEVldv62MF",
    "outputId": "9bb74ba9-d950-4b9f-bbac-81a786495d32"
   },
   "outputs": [],
   "source": [
    "## do wyjebania imo  AIRLINE_DOT,AIRLINE_DOT,DOT_CODE,ORIGIN,DEST ewentualnie zostawic skroty i zrobic jakis slownik do wypisywania\n",
    "for col_name in dataset.columns.values:\n",
    "  print(f\"Size in mb of {col_name} : {sys.getsizeof(dataset[col_name]) / 10 ** 6} mb, Type {dataset[col_name].dtype}\")\n",
    "print(f\"Data size : {sys.getsizeof(dataset) / 10 ** 9} in GB\")"
   ]
  },
  {
   "cell_type": "markdown",
   "metadata": {
    "id": "gibK5EKYhyO9"
   },
   "source": [
    "# Data Discovery"
   ]
  },
  {
   "cell_type": "markdown",
   "metadata": {
    "id": "egv0ODfVn6Uj"
   },
   "source": [
    "Info about columns:"
   ]
  },
  {
   "cell_type": "code",
   "execution_count": 4,
   "metadata": {
    "colab": {
     "base_uri": "https://localhost:8080/"
    },
    "id": "kX1ldSNQehFW",
    "outputId": "607805a7-5c06-43dc-9bdf-c906e857ba7f"
   },
   "outputs": [
    {
     "name": "stdout",
     "output_type": "stream",
     "text": [
      "There ara 12651227 rows and 38 columns.\n"
     ]
    }
   ],
   "source": [
    "print(f\"There ara {dataset.shape[0]} rows and {dataset.shape[1]} columns.\")"
   ]
  },
  {
   "cell_type": "code",
   "execution_count": 5,
   "metadata": {
    "colab": {
     "base_uri": "https://localhost:8080/"
    },
    "id": "OO79O3q9igyf",
    "outputId": "3ad77bd4-0ffb-4a3b-84e4-5c47d8ad4af2"
   },
   "outputs": [
    {
     "data": {
      "text/plain": [
       "array(['ID', 'OP_CARRIER', 'ORIGIN', 'DEST', 'CRS_DEP_TIME',\n",
       "       'CRS_ARR_TIME', 'ARR_TIME', 'CRS_ELAPSED_TIME', 'DISTANCE',\n",
       "       'FL_YEAR', 'FL_MONTH', 'FL_DAY', 'ARR_DELAY', 'DELAY', 'MOONPHASE',\n",
       "       'CONDITIONS', 'CLOUDCOVER', 'VISIBILITY', 'PRESSURE', 'WINDDIR',\n",
       "       'WINDSPEED', 'WINDGUST', 'SNOWDEPTH', 'SNOW', 'PRECIPPROB',\n",
       "       'PRECIP', 'DEW', 'HUMIDITY', 'TEMP', 'FEELSLIKE', 'ice',\n",
       "       'freezingrain', 'snow', 'rain', 'id', 'datatype', 'day_of_week',\n",
       "       'month'], dtype=object)"
      ]
     },
     "execution_count": 5,
     "metadata": {},
     "output_type": "execute_result"
    }
   ],
   "source": [
    "dataset.columns.values"
   ]
  },
  {
   "cell_type": "code",
   "execution_count": 6,
   "metadata": {
    "colab": {
     "base_uri": "https://localhost:8080/"
    },
    "id": "hiW2YjHPk21k",
    "outputId": "28c48b53-4324-4775-bf33-930c777caa7e"
   },
   "outputs": [
    {
     "name": "stdout",
     "output_type": "stream",
     "text": [
      "<class 'pandas.core.frame.DataFrame'>\n",
      "RangeIndex: 12651227 entries, 0 to 12651226\n",
      "Data columns (total 38 columns):\n",
      " #   Column            Dtype         \n",
      "---  ------            -----         \n",
      " 0   ID                float64       \n",
      " 1   OP_CARRIER        category      \n",
      " 2   ORIGIN            category      \n",
      " 3   DEST              int64         \n",
      " 4   CRS_DEP_TIME      int64         \n",
      " 5   CRS_ARR_TIME      int64         \n",
      " 6   ARR_TIME          int64         \n",
      " 7   CRS_ELAPSED_TIME  int64         \n",
      " 8   DISTANCE          int64         \n",
      " 9   FL_YEAR           uint32        \n",
      " 10  FL_MONTH          uint16        \n",
      " 11  FL_DAY            uint16        \n",
      " 12  ARR_DELAY         int64         \n",
      " 13  DELAY             uint16        \n",
      " 14  MOONPHASE         float64       \n",
      " 15  CONDITIONS        object        \n",
      " 16  CLOUDCOVER        float64       \n",
      " 17  VISIBILITY        float64       \n",
      " 18  PRESSURE          float64       \n",
      " 19  WINDDIR           float64       \n",
      " 20  WINDSPEED         float64       \n",
      " 21  WINDGUST          float64       \n",
      " 22  SNOWDEPTH         float64       \n",
      " 23  SNOW              float64       \n",
      " 24  PRECIPPROB        float64       \n",
      " 25  PRECIP            float64       \n",
      " 26  DEW               float64       \n",
      " 27  HUMIDITY          float64       \n",
      " 28  TEMP              float64       \n",
      " 29  FEELSLIKE         float64       \n",
      " 30  ice               uint16        \n",
      " 31  freezingrain      uint16        \n",
      " 32  snow              uint16        \n",
      " 33  rain              uint16        \n",
      " 34  id                float64       \n",
      " 35  datatype          datetime64[ns]\n",
      " 36  day_of_week       int32         \n",
      " 37  month             int32         \n",
      "dtypes: category(2), datetime64[ns](1), float64(17), int32(2), int64(7), object(1), uint16(7), uint32(1)\n",
      "memory usage: 2.8+ GB\n"
     ]
    }
   ],
   "source": [
    "dataset.info()"
   ]
  },
  {
   "cell_type": "markdown",
   "metadata": {
    "id": "WKIcQWp4g7ll"
   },
   "source": [
    "Mean of delays:"
   ]
  },
  {
   "cell_type": "code",
   "execution_count": null,
   "metadata": {
    "colab": {
     "base_uri": "https://localhost:8080/"
    },
    "id": "xpAJaoEEg-3N",
    "outputId": "1e01bd49-b9d6-4885-d5c1-313fef8f6e7b"
   },
   "outputs": [],
   "source": [
    "delays = dataset['DELAY']\n",
    "delays.mean()"
   ]
  },
  {
   "cell_type": "markdown",
   "metadata": {},
   "source": [
    "Check how many nans in dataframe:"
   ]
  },
  {
   "cell_type": "markdown",
   "metadata": {},
   "source": [
    "Maybe we should remove windgust? So many NaNs, probably no colleration, ID?"
   ]
  },
  {
   "cell_type": "code",
   "execution_count": null,
   "metadata": {
    "id": "Kroz9iZPIhUx"
   },
   "outputs": [],
   "source": [
    "\n",
    "def check_nans():\n",
    "  # since all len's are same\n",
    "  n = len(dataset['DELAY'])\n",
    "  for col in dataset.columns.values:\n",
    "    nans = dataset[col].isna().sum()\n",
    "    print(f\"Col name: {col} nans: {nans}   {(nans / n) * 100} %\")\n",
    "  print(f\"There are {n} rows\")\n",
    "\n",
    "check_nans()\n"
   ]
  },
  {
   "cell_type": "markdown",
   "metadata": {},
   "source": [
    "# Time for some plots:"
   ]
  },
  {
   "cell_type": "markdown",
   "metadata": {},
   "source": [
    "Pie graph of delays:"
   ]
  },
  {
   "cell_type": "code",
   "execution_count": null,
   "metadata": {},
   "outputs": [],
   "source": [
    "def wykreskolowydelay(df):\n",
    "    delayed_flights = df[df['DELAY'] > 0]\n",
    "    percentages = [len(delayed_flights) / len(df) * 100, 100 - len(delayed_flights) / len(df) * 100]\n",
    "    labels = ['Delayed', 'Non-delayed']\n",
    "    plt.figure(figsize=(8, 8))\n",
    "    plt.pie(percentages, labels=labels, autopct='%1.1f%%', colors=['skyblue', 'lightgreen'], startangle=90)\n",
    "    plt.title('Percentage of delayed')\n",
    "    plt.show()\n",
    "\n",
    "def wykresmiesiacdealay(df):\n",
    "    monthly_delays = df.groupby(df['FL_MONTH'])['DELAY'].mean() * 100\n",
    "    plt.figure(figsize=(10, 6))\n",
    "    monthly_delays.plot(kind='bar', color='skyblue', edgecolor='black')\n",
    "    plt.title('Procentowe opóźnienia')\n",
    "    plt.xlabel('Miesiąc')\n",
    "    plt.ylabel('Procentowe opóźnienie')\n",
    "    plt.xticks(rotation=0)\n",
    "    plt.show()\n",
    "\n",
    "def wykresmiesiacliczbalotow(df):\n",
    "    monthly_delays = df.groupby(df['FL_MONTH'])['id'].count()\n",
    "    print(monthly_delays)\n",
    "    plt.figure(figsize=(10, 6))\n",
    "    monthly_delays.plot(kind='bar', color='skyblue', edgecolor='black')\n",
    "    plt.title('Liczba lotów na miesiąc')\n",
    "    plt.xlabel('Miesiąc')\n",
    "    plt.ylabel('Liczba lotów')\n",
    "    plt.xticks(rotation=0)\n",
    "    plt.show()\n",
    "def wykresmiesiacopoznienie(df):\n",
    "    monthly_delays = df.groupby('FL_MONTH')['DELAY'].sum()\n",
    "    plt.figure(figsize=(10, 6))\n",
    "    print(monthly_delays)\n",
    "    monthly_delays.plot(kind='bar', color='skyblue', edgecolor='black')\n",
    "    plt.title('Ilość opóźnionych lotów')\n",
    "    plt.xlabel('Miesiąc')\n",
    "    plt.ylabel('Liczba opóźnień')\n",
    "    plt.xticks(rotation=0)\n",
    "    plt.show()\n",
    "\n",
    "graphs = [wykreskolowydelay, wykresmiesiacdealay, wykresmiesiacliczbalotow, wykresmiesiacopoznienie]\n",
    "\n",
    "for g in graphs:\n",
    "    g(dataset)"
   ]
  },
  {
   "cell_type": "code",
   "execution_count": null,
   "metadata": {},
   "outputs": [],
   "source": []
  },
  {
   "cell_type": "markdown",
   "metadata": {
    "id": "Ud6a5QJDh3cb"
   },
   "source": [
    "# Data Preprocessing"
   ]
  },
  {
   "cell_type": "markdown",
   "metadata": {
    "id": "z4rgBEdYkvzT"
   },
   "source": [
    "## Data Cleaning"
   ]
  },
  {
   "cell_type": "markdown",
   "metadata": {
    "id": "bY2S_PtTkybL"
   },
   "source": [
    "Let's remove windgust, since it doesn't provide any important data (does it?) and contains of lots of nans.\n",
    "Also, 8 percents of snow might be too much. For now, we will remove it and maybe later on we will return it back."
   ]
  },
  {
   "cell_type": "code",
   "execution_count": null,
   "metadata": {
    "id": "_g_Y_phSm-0N"
   },
   "outputs": [],
   "source": [
    "dataset = dataset.drop(['WINDGUST', 'SNOW', \"SNOWDEPTH\", \"ID\", \"id\"], axis = 1, errors = 'ignore')\n",
    "dataset.head(100)"
   ]
  },
  {
   "cell_type": "code",
   "execution_count": null,
   "metadata": {},
   "outputs": [],
   "source": [
    "check_nans()"
   ]
  },
  {
   "cell_type": "markdown",
   "metadata": {
    "id": "kAcEdCpyMk7K"
   },
   "source": [
    "Now it would be great if we removed NaN rows, I will remove all NaN rows from MOONPHASE, CONDITIONS etc. I know only by seeing those rows, that there since moonphase and conditions and cloudcover etc. have 0.002481972697193719 % of nans, they have nans on all rows. So i need to remove only moonphase visibility and pressure rows with NaN's."
   ]
  },
  {
   "cell_type": "code",
   "execution_count": null,
   "metadata": {
    "id": "ms4Nt3oxM2My"
   },
   "outputs": [],
   "source": [
    "nan_cols = [\"MOONPHASE\", 'VISIBILITY', 'PRESSURE']\n",
    "\n",
    "dataset.dropna(subset = nan_cols, inplace = True)"
   ]
  },
  {
   "cell_type": "markdown",
   "metadata": {
    "id": "5dkX4TztPoww"
   },
   "source": [
    "Now lets look at nans in overall:"
   ]
  },
  {
   "cell_type": "code",
   "execution_count": null,
   "metadata": {
    "id": "Hj5rtsQyPsgC"
   },
   "outputs": [],
   "source": [
    "check_nans()"
   ]
  },
  {
   "cell_type": "markdown",
   "metadata": {
    "id": "Wm9yLL7qyLSj"
   },
   "source": [
    "We have our data cleaned. Data we imported had ~12.65 mln. rows, after cleaning we have ~12.64 mln. rows. (???)"
   ]
  },
  {
   "cell_type": "markdown",
   "metadata": {
    "id": "GSsljOVBlBGd"
   },
   "source": [
    "## Custom Transformers"
   ]
  },
  {
   "cell_type": "markdown",
   "metadata": {
    "id": "7AF4bNmClHh_"
   },
   "source": []
  },
  {
   "cell_type": "markdown",
   "metadata": {
    "id": "LUN-ZZpwlIsh"
   },
   "source": [
    "## Feature Scaling"
   ]
  },
  {
   "cell_type": "markdown",
   "metadata": {
    "id": "pjEC1L0XlNpO"
   },
   "source": []
  },
  {
   "cell_type": "markdown",
   "metadata": {
    "id": "jIHFTog_lOvl"
   },
   "source": [
    "## Tranformation Pipelines"
   ]
  },
  {
   "cell_type": "markdown",
   "metadata": {
    "id": "tzhFvauQlUiU"
   },
   "source": []
  },
  {
   "cell_type": "markdown",
   "metadata": {
    "id": "k5QgLbmrp1NJ"
   },
   "source": [
    "# Exploratory Data Analysis"
   ]
  },
  {
   "cell_type": "markdown",
   "metadata": {
    "id": "p0tvemvfp6PB"
   },
   "source": []
  },
  {
   "cell_type": "markdown",
   "metadata": {
    "id": "98ZnWfqHnYpg"
   },
   "source": [
    "# Machine Learning Proccess"
   ]
  },
  {
   "cell_type": "code",
   "execution_count": null,
   "metadata": {
    "id": "HIvR1vYRnb2A"
   },
   "outputs": [],
   "source": [
    "def LogREG(X_train,X_test,y_train,y_test):\n",
    "    model = LogisticRegression(max_iter=1000)\n",
    "\n",
    "    # Different logistic regression parameters to try\n",
    "    param_grid = {'C': [0.001, 0.01, 0.1, 1, 10, 100], 'solver': ['liblinear', 'newton-cg', 'lbfgs', 'sag']}\n",
    "\n",
    "    # Use GridSearchCV for hyperparameter tuning\n",
    "    grid_search = GridSearchCV(model, param_grid, cv=5, scoring='accuracy')\n",
    "    grid_search.fit(X_train, y_train)\n",
    "\n",
    "    # Get the best parameters and best model from the grid search\n",
    "    best_params = grid_search.best_params_\n",
    "    best_model = grid_search.best_estimator_\n",
    "\n",
    "    # Make predictions on the test set\n",
    "    y_pred = best_model.predict(X_test)\n",
    "\n",
    "    # Calculate accuracy\n",
    "    accuracy = accuracy_score(y_test, y_pred)\n",
    "\n",
    "    # Print results\n",
    "    print(\"LR best parameters:\", best_params)\n",
    "    print(\"Accuracy:\", accuracy)\n",
    "\n",
    "def SVM(X_train, X_test, y_train, y_test):\n",
    "    clf = svm.SVC()\n",
    "    clf.fit(X_train, y_train)\n",
    "    y_pred = clf.predict(X_test)\n",
    "    \n",
    "    accuracy = accuracy_score(y_test, y_pred)\n",
    "\n",
    "    print(f'Dokładność klasyfikacji: {accuracy:.2f}')\n",
    "\n",
    "    # Wyświetlanie pełnego raportu klasyfikacji\n",
    "    print('\\nRaport klasyfikacji:')\n",
    "    print(classification_report(y_test, y_pred))"
   ]
  },
  {
   "cell_type": "code",
   "execution_count": null,
   "metadata": {},
   "outputs": [],
   "source": [
    "'''X = dataset.loc[:, dataset.columns != \"DELAY\"]\n",
    "y = dataset[\"DELAY\"]\n",
    "\n",
    "X_train, X_test, y_train, y_test = sklearn.model_selection.train_test_split(X, y, test_size = 0.1)\n",
    "'''\n",
    "\n",
    "\n"
   ]
  },
  {
   "cell_type": "code",
   "execution_count": null,
   "metadata": {},
   "outputs": [],
   "source": [
    "#LogREG(X_train, X_test, y_train, y_test)\n",
    "#SVM(X_train, X_test, y_train, y_test)"
   ]
  },
  {
   "cell_type": "code",
   "execution_count": null,
   "metadata": {},
   "outputs": [],
   "source": []
  }
 ],
 "metadata": {
  "colab": {
   "collapsed_sections": [
    "GSsljOVBlBGd",
    "LUN-ZZpwlIsh",
    "k5QgLbmrp1NJ",
    "98ZnWfqHnYpg"
   ],
   "provenance": []
  },
  "kernelspec": {
   "display_name": "Python 3 (ipykernel)",
   "language": "python",
   "name": "python3"
  },
  "language_info": {
   "codemirror_mode": {
    "name": "ipython",
    "version": 3
   },
   "file_extension": ".py",
   "mimetype": "text/x-python",
   "name": "python",
   "nbconvert_exporter": "python",
   "pygments_lexer": "ipython3",
   "version": "3.10.12"
  }
 },
 "nbformat": 4,
 "nbformat_minor": 4
}
